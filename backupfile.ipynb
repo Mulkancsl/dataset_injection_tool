{
 "cells": [
  {
   "cell_type": "code",
   "execution_count": 3,
   "metadata": {},
   "outputs": [
    {
     "data": {
      "text/plain": [
       "'roleback_backup/2023-10-18/dataset_inject_backup_20231018180541.csv'"
      ]
     },
     "execution_count": 3,
     "metadata": {},
     "output_type": "execute_result"
    }
   ],
   "source": [
    "import shutil\n",
    "import datetime\n",
    "import random\n",
    "import os\n",
    "\n",
    "source_file = 'dataset_inject.csv'\n",
    "destination_file = 'dataset_inject_backup.csv'\n",
    "\n",
    "# Salin file CSV\n",
    "shutil.copy(source_file, destination_file)\n",
    "\n",
    "# ========================================\n",
    "# Move To Roleback Backup\n",
    "locRoleback = \"roleback_backup/\" + str(datetime.datetime.now().strftime(\"%Y-%m-%d\")) + \"/\"\n",
    "\n",
    "os.makedirs(locRoleback, exist_ok=True)\n",
    "\n",
    "dt = datetime.datetime.now().strftime(\"%Y%m%d%H%M%S\")\n",
    "roleback_file = source_file.split('.')[0]+\"_backup_\"+dt+\".csv\"\n",
    "\n",
    "# Salin file Roleback CSV\n",
    "shutil.copy(source_file, locRoleback + os.path.basename(roleback_file))"
   ]
  },
  {
   "cell_type": "code",
   "execution_count": 6,
   "metadata": {},
   "outputs": [
    {
     "name": "stdout",
     "output_type": "stream",
     "text": [
      "['Pemantauan gula darah', 'Edukasi perawat', 'Pencegahan kambuh', 'Perawatan penyakit pankreas', 'Manajemen alergi obat', 'Pemberian obat', 'Rencana diet rendah gula', 'Tindak lanjut', 'Diet dan nutrisi', 'Manajemen kanker pencernaan', 'Penggunaan obat antibiotik', 'Perawatan jangka panjang', 'Terapi nutrisi parenteral', 'Terapi radioterapi', 'Rencana nutrisi bayi', 'Pemantauan kadar kolesterol', 'Perawatan anak-anak', 'Pengawasan kesehatan berkala', 'Pemantauan kesehatan', 'Terapi fisik untuk pasien lansia', 'Pemulihan paska operasi', 'Perencanaan tindak lanjut', 'Perencanaan diet rendah karbohidrat', 'Rencana pengendalian infeksi', 'Terapi radioterapi kanker pencernaan', 'Konseling pasien', 'Terapi fisik', 'Rencana perawatan stroke', 'Perencanaan nutrisi anak-anak', 'Program penghentian merokok', 'Program pemantauan diri', 'Perencanaan diet rendah garam', 'Pemulihan pasien', 'Perawatan penyakit autoimun', 'Konseling diet', 'Perawatan luka', 'Edukasi pasien diabetik', 'Pemberian vaksin', 'Perawatan penyakit lambung', 'Manajemen berat badan', 'Manajemen kesehatan tubuh', 'Perawatan penyakit kronis', 'Perawatan kesehatan mental', 'Terapi medis', 'Infus intravena', 'Rencana diet vegetarian', 'Rencana diet rendah sodium', 'Kebutuhan psikologis', 'Pemeriksaan berkala', 'Manajemen nyeri', 'Terapi hormonal', 'Olahraga teratur', 'Pemeriksaan kesehatan tahunan', 'Manajemen stres', 'Pencegahan jatuh', 'Perencanaan nutrisi orang tua', 'Perawatan peradangan usus', 'Pengawasan gula darah', 'Tes laboratorium', 'Manajemen penyakit autoimun', 'Manajemen nutrisi enteral', 'Manajemen komplikasi', 'Pemantauan gizi', 'Terapi farmakologis', 'Tindakan rehabilitasi', 'Perubahan gaya hidup', 'Kebutuhan oksigen', 'Pencegahan penyakit autoimun', 'Perencanaan diet rendah kolesterol', 'Terapi penyakit autoimun', 'Pencegahan', 'Rencana perawatan diet remaja', 'Perawatan penyakit hati', 'Manajemen penyakit sistemik', 'Rekomendasi perawatan', 'Pemulihan paska stroke', 'Pencegahan penyakit hati', 'Rencana kepatuhan', 'Program diet sehat', 'Edukasi pasien', 'Perencanaan nutrisi balita', 'Perawatan penyakit lambung', 'Perawatan lanjut usia', 'Konsultasi spesialis', 'Pencegahan gangguan pencernaan', 'Manajemen penyakit pencernaan', 'Pemantauan asupan kalori', 'Terapi psikologis', 'Pencegahan penyakit gastrointestinal', 'Perawatan penyakit jantung', 'Diet khusus', 'Edukasi keluarga', 'Pemeriksaan radiologi', 'Pencegahan penyakit vaskular', 'Terapi fisik kardiak', 'Rencana nutrisi', 'Pemantauan kepatuhan', 'Pencegahan penyakit saluran pencernaan', 'Pencegahan komplikasi diabetes', 'Perencanaan diet rendah lemak']\n"
     ]
    }
   ],
   "source": [
    "item = [\"Terapi medis\", \"Pemberian obat\", \"Diet dan nutrisi\", \"Pencegahan\", \"Pemeriksaan berkala\", \"Tindak lanjut\", \"Manajemen nyeri\", \"Konsultasi spesialis\", \"Rekomendasi perawatan\", \"Edukasi pasien\", \"Pengawasan gula darah\", \"Olahraga teratur\", \"Terapi fisik\", \"Pemeriksaan radiologi\", \"Tes laboratorium\", \"Manajemen komplikasi\", \"Pemantauan kesehatan\", \"Perawatan jangka panjang\", \"Terapi farmakologis\", \"Pencegahan kambuh\", \"Diet khusus\", \"Rencana nutrisi\", \"Perubahan gaya hidup\", \"Manajemen berat badan\", \"Program pemantauan diri\", \"Konseling pasien\", \"Pemberian vaksin\", \"Kebutuhan psikologis\", \"Terapi psikologis\", \"Manajemen stres\", \"Konseling diet\", \"Rencana pengendalian infeksi\", \"Tindakan rehabilitasi\", \"Perawatan anak-anak\", \"Perawatan lanjut usia\", \"Perencanaan tindak lanjut\", \"Penggunaan obat antibiotik\", \"Manajemen alergi obat\", \"Terapi nutrisi parenteral\", \"Infus intravena\", \"Manajemen nutrisi enteral\", \"Pemantauan kepatuhan\", \"Pencegahan jatuh\", \"Perawatan luka\", \"Kebutuhan oksigen\", \"Perencanaan diet rendah garam\", \"Terapi penyakit autoimun\", \"Manajemen penyakit sistemik\", \"Perencanaan diet rendah kolesterol\", \"Rencana kepatuhan\", \"Pemeriksaan kesehatan tahunan\", \"Pengawasan kesehatan berkala\", \"Pencegahan penyakit vaskular\", \"Pemantauan gula darah\", \"Terapi hormonal\", \"Perawatan penyakit jantung\", \"Perawatan penyakit hati\", \"Manajemen kanker pencernaan\", \"Rencana perawatan stroke\", \"Pencegahan komplikasi diabetes\", \"Perencanaan diet rendah lemak\", \"Pemulihan pasien\", \"Edukasi keluarga\", \"Perawatan kesehatan mental\", \"Manajemen penyakit autoimun\", \"Perawatan penyakit lambung\", \"Terapi radioterapi\", \"Terapi fisik kardiak\", \"Program penghentian merokok\", \"Pemantauan gizi\", \"Edukasi perawat\", \"Perencanaan nutrisi anak-anak\", \"Rencana diet vegetarian\", \"Perawatan penyakit kronis\", \"Pencegahan penyakit hati\", \"Rencana nutrisi bayi\", \"Pencegahan penyakit saluran pencernaan\", \"Perencanaan diet rendah karbohidrat\", \"Pemulihan paska operasi\", \"Pemantauan kadar kolesterol\", \"Perawatan peradangan usus\", \"Manajemen penyakit pencernaan\", \"Perencanaan nutrisi orang tua\", \"Terapi fisik untuk pasien lansia\", \"Perawatan penyakit pankreas\", \"Pencegahan gangguan pencernaan\", \"Rencana perawatan diet remaja\", \"Pemulihan paska stroke\", \"Perawatan penyakit autoimun\", \"Pencegahan penyakit autoimun\", \"Rencana diet rendah sodium\", \"Perencanaan nutrisi balita\", \"Terapi radioterapi kanker pencernaan\", \"Program diet sehat\", \"Pemantauan asupan kalori\", \"Edukasi pasien diabetik\", \"Rencana diet rendah gula\", \"Pencegahan penyakit gastrointestinal\", \"Perawatan penyakit lambung\", \"Manajemen kesehatan tubuh\"]\n",
    "\n",
    "import random\n",
    "\n",
    "random.shuffle(item)\n",
    "print(item)"
   ]
  },
  {
   "cell_type": "code",
   "execution_count": 4,
   "metadata": {},
   "outputs": [
    {
     "data": {
      "text/html": [
       "<div>\n",
       "<style scoped>\n",
       "    .dataframe tbody tr th:only-of-type {\n",
       "        vertical-align: middle;\n",
       "    }\n",
       "\n",
       "    .dataframe tbody tr th {\n",
       "        vertical-align: top;\n",
       "    }\n",
       "\n",
       "    .dataframe thead th {\n",
       "        text-align: right;\n",
       "    }\n",
       "</style>\n",
       "<table border=\"1\" class=\"dataframe\">\n",
       "  <thead>\n",
       "    <tr style=\"text-align: right;\">\n",
       "      <th></th>\n",
       "      <th>id</th>\n",
       "      <th>dataset</th>\n",
       "      <th>label</th>\n",
       "    </tr>\n",
       "  </thead>\n",
       "  <tbody>\n",
       "    <tr>\n",
       "      <th>0</th>\n",
       "      <td>4bbba284-a33e-4f11-84f1-20d582a134ab</td>\n",
       "      <td>demam</td>\n",
       "      <td>subjek</td>\n",
       "    </tr>\n",
       "    <tr>\n",
       "      <th>1</th>\n",
       "      <td>cc5fe782-37b8-4283-8652-c436e55dbe08</td>\n",
       "      <td>Gula Darah</td>\n",
       "      <td>objek</td>\n",
       "    </tr>\n",
       "    <tr>\n",
       "      <th>2</th>\n",
       "      <td>7c653186-3b6d-4cb9-a222-0623537ac5d3</td>\n",
       "      <td>Operasi jantung</td>\n",
       "      <td>assessment</td>\n",
       "    </tr>\n",
       "    <tr>\n",
       "      <th>3</th>\n",
       "      <td>de2f3543-7705-4e03-9b5a-924ecaad5fae</td>\n",
       "      <td>NaN</td>\n",
       "      <td>plan</td>\n",
       "    </tr>\n",
       "    <tr>\n",
       "      <th>4</th>\n",
       "      <td>c2e99ce2-a6ac-46be-a1e9-fa08e9d4f0f8</td>\n",
       "      <td>Gangguan gait</td>\n",
       "      <td>subjek</td>\n",
       "    </tr>\n",
       "    <tr>\n",
       "      <th>...</th>\n",
       "      <td>...</td>\n",
       "      <td>...</td>\n",
       "      <td>...</td>\n",
       "    </tr>\n",
       "    <tr>\n",
       "      <th>267935</th>\n",
       "      <td>f07a9026-f257-419d-b8cc-f6c3a609b74d</td>\n",
       "      <td>Sukralfat syr 3x1\\nParacetamol 3x1\\nBiocombine...</td>\n",
       "      <td>plan</td>\n",
       "    </tr>\n",
       "    <tr>\n",
       "      <th>267936</th>\n",
       "      <td>0bd339d0-5fed-42c2-9e5b-e530e6c789dd</td>\n",
       "      <td>Pasien datang dengan keluhan sakit kepala, mua...</td>\n",
       "      <td>subjek</td>\n",
       "    </tr>\n",
       "    <tr>\n",
       "      <th>267937</th>\n",
       "      <td>1807402b-2f9c-4d8c-bd27-a0890081dfff</td>\n",
       "      <td>KU: Tampak Sakit Sedang\\nKepala: DBN\\nThorax: ...</td>\n",
       "      <td>objek</td>\n",
       "    </tr>\n",
       "    <tr>\n",
       "      <th>267938</th>\n",
       "      <td>f44f45bf-177f-4f1a-a43b-b8068384b5f2</td>\n",
       "      <td>HIPERTENSI GRADE II + DYSPEPSIA + OSTEOARTHRITIS</td>\n",
       "      <td>assessment</td>\n",
       "    </tr>\n",
       "    <tr>\n",
       "      <th>267939</th>\n",
       "      <td>b2c20f55-4aca-4819-812b-1d65ed4d20f6</td>\n",
       "      <td>Amlodipin 10mg 1x1\\nParacetamol 500mg 3x1\\nNat...</td>\n",
       "      <td>plan</td>\n",
       "    </tr>\n",
       "  </tbody>\n",
       "</table>\n",
       "<p>267940 rows × 3 columns</p>\n",
       "</div>"
      ],
      "text/plain": [
       "                                          id  \\\n",
       "0       4bbba284-a33e-4f11-84f1-20d582a134ab   \n",
       "1       cc5fe782-37b8-4283-8652-c436e55dbe08   \n",
       "2       7c653186-3b6d-4cb9-a222-0623537ac5d3   \n",
       "3       de2f3543-7705-4e03-9b5a-924ecaad5fae   \n",
       "4       c2e99ce2-a6ac-46be-a1e9-fa08e9d4f0f8   \n",
       "...                                      ...   \n",
       "267935  f07a9026-f257-419d-b8cc-f6c3a609b74d   \n",
       "267936  0bd339d0-5fed-42c2-9e5b-e530e6c789dd   \n",
       "267937  1807402b-2f9c-4d8c-bd27-a0890081dfff   \n",
       "267938  f44f45bf-177f-4f1a-a43b-b8068384b5f2   \n",
       "267939  b2c20f55-4aca-4819-812b-1d65ed4d20f6   \n",
       "\n",
       "                                                  dataset       label  \n",
       "0                                                   demam      subjek  \n",
       "1                                              Gula Darah       objek  \n",
       "2                                         Operasi jantung  assessment  \n",
       "3                                                     NaN        plan  \n",
       "4                                           Gangguan gait      subjek  \n",
       "...                                                   ...         ...  \n",
       "267935  Sukralfat syr 3x1\\nParacetamol 3x1\\nBiocombine...        plan  \n",
       "267936  Pasien datang dengan keluhan sakit kepala, mua...      subjek  \n",
       "267937  KU: Tampak Sakit Sedang\\nKepala: DBN\\nThorax: ...       objek  \n",
       "267938   HIPERTENSI GRADE II + DYSPEPSIA + OSTEOARTHRITIS  assessment  \n",
       "267939  Amlodipin 10mg 1x1\\nParacetamol 500mg 3x1\\nNat...        plan  \n",
       "\n",
       "[267940 rows x 3 columns]"
      ]
     },
     "execution_count": 4,
     "metadata": {},
     "output_type": "execute_result"
    }
   ],
   "source": [
    "import pandas as pd\n",
    "data = pd.read_csv('dataset_inject.csv')\n",
    "data"
   ]
  },
  {
   "cell_type": "code",
   "execution_count": null,
   "metadata": {},
   "outputs": [],
   "source": []
  }
 ],
 "metadata": {
  "kernelspec": {
   "display_name": "Python 3",
   "language": "python",
   "name": "python3"
  },
  "language_info": {
   "codemirror_mode": {
    "name": "ipython",
    "version": 3
   },
   "file_extension": ".py",
   "mimetype": "text/x-python",
   "name": "python",
   "nbconvert_exporter": "python",
   "pygments_lexer": "ipython3",
   "version": "3.10.7"
  }
 },
 "nbformat": 4,
 "nbformat_minor": 2
}
