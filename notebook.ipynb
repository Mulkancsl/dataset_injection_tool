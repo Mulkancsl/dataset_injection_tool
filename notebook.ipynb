{
 "cells": [
  {
   "cell_type": "code",
   "execution_count": 1,
   "metadata": {},
   "outputs": [
    {
     "name": "stdout",
     "output_type": "stream",
     "text": [
      "100\n",
      "100\n",
      "100\n",
      "100\n"
     ]
    }
   ],
   "source": [
    "itemArrayS = ['Alergi terhadap hewan', 'Eksim', 'Nyeri otot', 'Kesulitan berkonsentrasi', 'Terapi tertentu yang pernah dijalani', 'Vertigo', 'Riwayat keluarga dengan penyakit kanker', 'Diare kronis', 'Alergi terhadap serbuk sari', 'Penurunan nafsu makan', 'Paparan radiasi', 'Alergi terhadap gigitan serangga', 'Rambut rontok', 'Buang air besar tidak teratur', 'Riwayat infeksi', 'Merokok', 'Gangguan keseimbangan', 'Riwayat keluarga dengan penyakit diabetes', 'Nyeri dada', 'Riwayat keluarga dengan penyakit ginjal', 'Nyeri sendi', 'Riwayat keluarga dengan penyakit asma', 'Lesi', 'Cedera tertentu yang pernah dialami', 'Riwayat keluarga dengan penyakit hipertensi', 'Disfagia', 'Riwayat penyakit tertentu di masa lalu', 'Diare', 'Gangguan pendengaran', 'Alergi terhadap bahan kimia', 'Alkohol', 'Inkontinensia urin', 'Riwayat keluarga dengan penyakit hati', 'Gangguan bicara', 'BAK tidak lancar', 'BAB berdarah', 'Dermatitis', 'Stres', 'Acne', 'Vitiligo', 'Diet yang tidak sehat', 'Luka', 'Pruritus', 'Perubahan warna kulit', 'BAK berdarah', 'Nyeri perut', 'Urtikaria', 'Alergi terhadap makanan', 'Riwayat keluarga dengan stroke', 'Alergi terhadap gigitan hewan', 'Sakit kepala', 'Gangguan gait', 'Anuria', 'Nyeri buang air kecil', 'Hematemesis', 'Trauma tertentu yang pernah dialami', 'Ruam', 'Gatal-gatal', 'Gangguan penglihatan', 'Palpebra edema', 'Mual dan muntah persisten', 'Kesemutan', 'Nyeri wajah', 'Perubahan pola tidur', 'Paparan zat kimia berbahaya', 'Ruam', 'Mual dan muntah', 'Kurang olahraga', 'Hematuria', 'Regurgitasi', 'Riwayat keluarga dengan penyakit autoimun', 'Sesak napas', 'Batuk', 'Alergi terhadap sinar matahari', 'Diplopia', 'Penurunan berat badan', 'Perut kembung', 'Obat-obatan terlarang', 'Demam', 'Obat-obatan yang sedang dikonsumsi', 'Perubahan suasana hati', 'Riwayat keluarga dengan penyakit alergi', 'Riwayat keluarga dengan penyakit jantung', 'Melena', 'Kelelahan', 'Operasi tertentu yang pernah dijalani', 'Lemah', 'Pusing', 'Gangguan kognitif', 'Oliguria', 'Kebas', 'Psoriasis', 'Paparan polusi udara', 'Konstipasi', 'Bisul', 'Alergi terhadap cuaca', 'Telangiektasia', 'Alergi terhadap obat-obatan', 'Tremor', 'Kejang']\n",
    "itemArrayO = ['Ahli Bedah', 'Intervensi', 'Penyakit Saluran Pencernaan', 'Penyakit Pernapasan', 'Penyakit Ginjal', 'Penggunaan Alat Medis', 'Pemberian Obat', 'Resonansi Magnetik(MRI)', 'Hasil Laboratorium', 'Penyakit Kedokteran Gigi', 'Spesialisasi', 'Penyakit Tulang', 'Rehabilitasi', 'RekamMedis', 'Penyakit Kedokteran Dalam', 'Pemeriksaan Tinja', 'Ultrasonografi(USG)', 'Riwayat Penyakit Keluarga', 'Hasil Radiologi', 'Endoskopi', 'Terapi Cairan', 'Efek Samping Obat', 'Penyakit Diabetes', 'Ahli Pulmonologi', 'Rujukanke Ahli', 'Ahli Nefrologi', 'Diagnosis', 'Dosis Obat', 'Ahli Onkologi', 'Diet', 'Penyakit Ginekologi', 'Pemeriksaan Eosinofil', 'Penyakit Kedokteran Radiologi', 'Ahli Reumatologi', 'Pemeriksaan Feses', 'Penyakit THT(Telinga,Hidung,Tenggorokan)', 'Penyakit', 'Evaluasi Respons Terapi', 'Pengobatan', 'Riwayat Merokok', 'Penyakit Darah', 'Radiografi Dada', 'Gula Darah', 'Riwayat Alergi', 'Tindak Lanjut', 'Perawatan', 'Ahli Hematologi', 'Tekanan Darah', 'Anamnesis', 'Prosedur Medis', 'Kultur Bakteri', 'Ahli Endokrinologi', 'Penyakit Kedokteran Anestesiologi', 'Riwayat Alkohol', 'Penyakit Neurologis', 'Pemeriksaan Fisik', 'Elektrokardiogram(EKG)', 'Penyakit Hati', 'Ahli Anestesiologi', 'Penyakit Kanker', 'Penyakit Infeksi', 'Tindakan Medis', 'Keluhan', 'Ahli Psikiatri', 'Ahli Ginekologi', 'Operasi', 'Penyakit Kedokteran Psikiatri', 'Riwayat Imunisasi', 'Penyakit Urologi', 'Pemeriksaan Darah Lengkap', 'Penyakit Kulit', 'Penyakit Kedokteran Bedah', 'Tomografi Komputer(CT)', 'Organ Tubuh', 'Suhu Tubuh', 'Pemeriksaan Lanjutan', 'Biopsi', 'Penyakit Jantung', 'Rujukan', 'Pasien', 'Penatalaksanaan', 'Kreatinin', 'Perubahan Kondisi', 'Pembedahan', 'Penyakit Mata', 'Skor Tanda Vital', 'Rekomendasi', 'Pemeriksaan Urine', 'Detak Jantung', 'Histopatologi', 'Ahli Gastroenterologi', 'Ahli Kardiologi', 'Ahli Kedokteran Gigi', 'Gejala Klinis', 'Ahli Radiologi', 'Riwayat Medis', 'Penyakit Autoimun', 'Pemeriksaan TSH(ThyroidStimulatingHormone)', 'Respirasi', 'Observasi']\n",
    "itemArrayA = [\"Riwayat medis\", \"Pemeriksaan fisik\", \"Gejala\", \"Keluhan pasien\", \"Riwayat penyakit\", \"Hasil laboratorium\", \"Radiologi\", \"Pemeriksaan darah\", \"Diagnosa\", \"Analisis klinis\", \"Penyakit dalam\", \"Pencitraan medis\", \"Endoskopi\", \"Kolonoskopi\", \"Endoskopi lambung\", \"Pemeriksaan jantung\", \"Hasil CT scan\", \"Evaluasi medis\", \"Pemeriksaan radiologi\", \"Diagnosis banding\", \"Alergi obat\", \"Kondisi medis\", \"Infeksi\", \"Penyakit autoimun\", \"Sistem pencernaan\", \"Penyakit hati\", \"Pankreatitis\", \"Divertikulitis\", \"Polip usus\", \"Gastroenteritis\", \"Kolesistitis\", \"Malabsorpsi\", \"Iskemia usus\", \"Kanker usus besar\", \"Gastroesophageal Reflux Disease (GERD)\", \"Gagal jantung\", \"Aritmia\", \"Angina\", \"Infark miokard\", \"Hipertensi\", \"Aterosklerosis\", \"Penyakit vaskular\", \"Kolesterol tinggi\", \"Diabetes\", \"Trombosis\", \"Perdarahan\", \"Pemeriksaan tinja\", \"Ultrasonografi\", \"Dispepsia\", \"Terapi nutrisi\", \"Terapi farmakologis\", \"Diet khusus\", \"Pencegahan\", \"Perawatan jangka panjang\", \"Komplikasi\", \"Tumor perut\", \"Manajemen nyeri\", \"Rehabilitasi jantung\", \"Tatalaksana medis\", \"Perawatan kardiologi\", \"Penyakit pembuluh darah\", \"Operasi jantung\", \"Laparoskopi\", \"Usia lanjut\", \"Kanker pencernaan\", \"Masalah pencernaan\", \"Pencegahan kambuh\", \"Kolon\", \"Terapi rehabilitasi\", \"Kondisi serius\", \"Gangguan sistemik\", \"Penyakit autoimun\", \"Esofagitis\", \"Peradangan usus\", \"Pemantauan berkala\", \"Gastroenterologi\", \"Peradangan lambung\", \"Tukak lambung\", \"Gagal ginjal\", \"Aneurisma aorta\", \"Peritonitis\", \"Resiko kesehatan\", \"Pemulihan pasien\", \"Prognosis\", \"Kualitas hidup\", \"Rekomendasi perawatan\", \"Manajemen penyakit\", \"Pencegahan kesehatan\", \"Pemberian obat\", \"Pemeriksaan psikologis\", \"Kondisi kronis\", \"Pola makan\", \"Respon terapi\", \"Peran keluarga\", \"Pemahaman pasien\", \"Psikoterapi\", \"Rujukan spesialis\", \"Kebutuhan pasien\", \"Masalah sosial\", \"Perencanaan tindak lanjut\"]\n",
    "itemArrayP = ['Pemantauan gula darah', 'Edukasi perawat', 'Pencegahan kambuh', 'Perawatan penyakit pankreas', 'Manajemen alergi obat', 'Pemberian obat', 'Rencana diet rendah gula', 'Tindak lanjut', 'Diet dan nutrisi', 'Manajemen kanker pencernaan', 'Penggunaan obat antibiotik', 'Perawatan jangka panjang', 'Terapi nutrisi parenteral', 'Terapi radioterapi', 'Rencana nutrisi bayi', 'Pemantauan kadar kolesterol', 'Perawatan anak-anak', 'Pengawasan kesehatan berkala', 'Pemantauan kesehatan', 'Terapi fisik untuk pasien lansia', 'Pemulihan paska operasi', 'Perencanaan tindak lanjut', 'Perencanaan diet rendah karbohidrat', 'Rencana pengendalian infeksi', 'Terapi radioterapi kanker pencernaan', 'Konseling pasien', 'Terapi fisik', 'Rencana perawatan stroke', 'Perencanaan nutrisi anak-anak', 'Program penghentian merokok', 'Program pemantauan diri', 'Perencanaan diet rendah garam', 'Pemulihan pasien', 'Perawatan penyakit autoimun', 'Konseling diet', 'Perawatan luka', 'Edukasi pasien diabetik', 'Pemberian vaksin', 'Perawatan penyakit lambung', 'Manajemen berat badan', 'Manajemen kesehatan tubuh', 'Perawatan penyakit kronis', 'Perawatan kesehatan mental', 'Terapi medis', 'Infus intravena', 'Rencana diet vegetarian', 'Rencana diet rendah sodium', 'Kebutuhan psikologis', 'Pemeriksaan berkala', 'Manajemen nyeri', 'Terapi hormonal', 'Olahraga teratur', 'Pemeriksaan kesehatan tahunan', 'Manajemen stres', 'Pencegahan jatuh', 'Perencanaan nutrisi orang tua', 'Perawatan peradangan usus', 'Pengawasan gula darah', 'Tes laboratorium', 'Manajemen penyakit autoimun', 'Manajemen nutrisi enteral', 'Manajemen komplikasi', 'Pemantauan gizi', 'Terapi farmakologis', 'Tindakan rehabilitasi', 'Perubahan gaya hidup', 'Kebutuhan oksigen', 'Pencegahan penyakit autoimun', 'Perencanaan diet rendah kolesterol', 'Terapi penyakit autoimun', 'Pencegahan', 'Rencana perawatan diet remaja', 'Perawatan penyakit hati', 'Manajemen penyakit sistemik', 'Rekomendasi perawatan', 'Pemulihan paska stroke', 'Pencegahan penyakit hati', 'Rencana kepatuhan', 'Program diet sehat', 'Edukasi pasien', 'Perencanaan nutrisi balita', 'Perawatan penyakit lambung', 'Perawatan lanjut usia', 'Konsultasi spesialis', 'Pencegahan gangguan pencernaan', 'Manajemen penyakit pencernaan', 'Pemantauan asupan kalori', 'Terapi psikologis', 'Pencegahan penyakit gastrointestinal', 'Perawatan penyakit jantung', 'Diet khusus', 'Edukasi keluarga', 'Pemeriksaan radiologi', 'Pencegahan penyakit vaskular', 'Terapi fisik kardiak', 'Rencana nutrisi', 'Pemantauan kepatuhan', 'Pencegahan penyakit saluran pencernaan', 'Pencegahan komplikasi diabetes', 'Perencanaan diet rendah lemak']\n",
    "print(len(itemArrayS))\n",
    "print(len(itemArrayO))\n",
    "print(len(itemArrayA))\n",
    "print(len(itemArrayP))"
   ]
  },
  {
   "cell_type": "code",
   "execution_count": 2,
   "metadata": {},
   "outputs": [],
   "source": [
    "import random\n",
    "import pandas as pd\n",
    "import csv\n",
    "\n",
    "# nama_file_csv = 'dataset_evaluate.csv'\n",
    "nama_file_csv = 'dataset_inject.csv'\n",
    "# nama_file_csv = 'dataset.csv'\n",
    "df = pd.read_csv(nama_file_csv)"
   ]
  },
  {
   "cell_type": "code",
   "execution_count": 3,
   "metadata": {},
   "outputs": [],
   "source": [
    "def changeDataCsv(row, label, sparr):\n",
    "\n",
    "    arr = []\n",
    "    if label == \"subjek\" :\n",
    "        arr = itemArrayS\n",
    "    elif label == \"objek\" :\n",
    "        arr = itemArrayO\n",
    "    elif label == \"assessment\" :\n",
    "        arr = itemArrayA\n",
    "    elif label == \"plan\" :\n",
    "        arr = itemArrayP\n",
    "\n",
    "    if sparr == \"isna(*)\":\n",
    "        hasilItem = df[(df['label'] == label) & \n",
    "                       (pd.isna(df['dataset']))]['dataset']\n",
    "    else :\n",
    "        hasilItem = df[(df['label'] == label) & \n",
    "                       (df['dataset'].isin([sparr]))]['dataset']\n",
    "\n",
    "    dataIdBaruPro = []\n",
    "    dataBaruPro = []\n",
    "    for i in hasilItem[:row].index:\n",
    "        dataIdBaruPro.append(i)\n",
    "        dataBaruPro.append([df.iloc[i][0], random.choice(arr), df.iloc[i][2]])\n",
    "\n",
    "    # =============================================\n",
    "\n",
    "    for i in range(len(dataIdBaruPro)):\n",
    "        with open(nama_file_csv, mode='r', encoding='utf-8') as file_csv:\n",
    "            csv_reader = list(csv.reader(file_csv))\n",
    "        \n",
    "        csv_reader[dataIdBaruPro[i] + 1] = dataBaruPro[i]\n",
    "        \n",
    "        with open(nama_file_csv, mode='w', newline='', encoding='utf-8') as file_csv:\n",
    "            csv_writer = csv.writer(file_csv, quoting=csv.QUOTE_ALL)\n",
    "            csv_writer.writerows(csv_reader)\n",
    "\n",
    "    print('Data telah diperbarui di ', nama_file_csv)\n",
    "    return\n",
    "\n",
    "def checkReturn(spars, title=False, label=[], show_backup=False):\n",
    "    if show_backup :\n",
    "        dfs = pd.read_csv(\"dataset_inject_backup.csv\")\n",
    "    else:\n",
    "        dfs = pd.read_csv(nama_file_csv)\n",
    "\n",
    "    if title : print(f\"Cek karakter '{spars}' dalam data\")\n",
    "\n",
    "    if label :\n",
    "        for i in label:\n",
    "            if(spars == \"isna(*)\") :\n",
    "                print(f\"{i.capitalize()} :\", len(dfs[(dfs['label'] == i) & (pd.isna(dfs['dataset']))]))\n",
    "            else:\n",
    "                print(f\"{i.capitalize()} :\", len(dfs[(dfs['label'] == i) & (dfs['dataset'] == spars)]))\n",
    "    if title : print(\"\")"
   ]
  },
  {
   "cell_type": "code",
   "execution_count": 4,
   "metadata": {},
   "outputs": [
    {
     "name": "stderr",
     "output_type": "stream",
     "text": [
      "C:\\Users\\Asus\\AppData\\Local\\Temp\\ipykernel_12936\\1390486601.py:24: FutureWarning: Series.__getitem__ treating keys as positions is deprecated. In a future version, integer keys will always be treated as labels (consistent with DataFrame behavior). To access a value by position, use `ser.iloc[pos]`\n",
      "  dataBaruPro.append([df.iloc[i][0], random.choice(arr), df.iloc[i][2]])\n"
     ]
    },
    {
     "name": "stdout",
     "output_type": "stream",
     "text": [
      "Data telah diperbarui di  dataset_inject.csv\n"
     ]
    }
   ],
   "source": [
    "rows = 3000\n",
    "# labels = 'subjek'\n",
    "# labels = 'objek'\n",
    "# labels = 'assessment'\n",
    "labels = 'plan'\n",
    "\n",
    "sparrs = \"isna(*)\" # pengecekan nan\n",
    "# ========= SELESAI ==========\n",
    "# sparrs = \"-\"\n",
    "# sparrs = \"w\"\n",
    "# sparrs = \"1\"\n",
    "# sparrs = \"2\"\n",
    "# sparrs = \"*\"\n",
    "# sparrs = \"=\"\n",
    "# sparrs = \"=-\"\n",
    "# sparrs = \"q\"\n",
    "# sparrs = \"1212\"\n",
    "# sparrs = \"*-\"\n",
    "# sparrs = \"-\\n\"\n",
    "# sparrs = \"=-\\n\"\n",
    "# sparrs = \"=\\n\"\n",
    "\n",
    "\n",
    "changeDataCsv(rows, labels, sparrs)"
   ]
  },
  {
   "cell_type": "code",
   "execution_count": 5,
   "metadata": {},
   "outputs": [
    {
     "name": "stdout",
     "output_type": "stream",
     "text": [
      "========================================\n",
      "Subjek : 0\n",
      "Objek : 0\n",
      "Assessment : 0\n",
      "Plan : 47000\n",
      "========================================\n",
      "Subjek : 0\n",
      "Objek : 0\n",
      "Assessment : 0\n",
      "Plan : 0\n",
      "========================================\n",
      "Subjek : 0\n",
      "Objek : 0\n",
      "Assessment : 0\n",
      "Plan : 0\n",
      "========================================\n",
      "Subjek : 0\n",
      "Objek : 0\n",
      "Assessment : 0\n",
      "Plan : 0\n",
      "========================================\n",
      "Subjek : 0\n",
      "Objek : 0\n",
      "Assessment : 0\n",
      "Plan : 0\n"
     ]
    }
   ],
   "source": [
    "labelForCeck = [\"subjek\", \"objek\", \"assessment\", \"plan\"]\n",
    "sparrCheck = [\"isna(*)\", \"-\", \"w\", \"1\", \"2\",]\n",
    "for i in sparrCheck:    \n",
    "    print(\"=\"*40)\n",
    "    checkReturn(i, label=labelForCeck)"
   ]
  },
  {
   "cell_type": "code",
   "execution_count": 6,
   "metadata": {},
   "outputs": [
    {
     "name": "stdout",
     "output_type": "stream",
     "text": [
      "========================================\n",
      "Subjek : 0\n",
      "Objek : 0\n",
      "Assessment : 0\n",
      "Plan : 0\n",
      "========================================\n",
      "Subjek : 0\n",
      "Objek : 0\n",
      "Assessment : 0\n",
      "Plan : 0\n",
      "========================================\n",
      "Subjek : 0\n",
      "Objek : 0\n",
      "Assessment : 0\n",
      "Plan : 0\n",
      "========================================\n",
      "Subjek : 0\n",
      "Objek : 0\n",
      "Assessment : 0\n",
      "Plan : 0\n",
      "========================================\n",
      "Subjek : 0\n",
      "Objek : 0\n",
      "Assessment : 0\n",
      "Plan : 0\n"
     ]
    }
   ],
   "source": [
    "sparrCheck2 = [\"*\", \"=\", \"=-\", \"q\", \"1212\"]\n",
    "for i in sparrCheck2:    \n",
    "    print(\"=\"*40)\n",
    "    checkReturn(i, label=labelForCeck)"
   ]
  },
  {
   "cell_type": "code",
   "execution_count": 7,
   "metadata": {},
   "outputs": [
    {
     "name": "stdout",
     "output_type": "stream",
     "text": [
      "========================================\n",
      "Subjek : 0\n",
      "Objek : 0\n",
      "Assessment : 0\n",
      "Plan : 0\n",
      "========================================\n",
      "Subjek : 0\n",
      "Objek : 0\n",
      "Assessment : 0\n",
      "Plan : 0\n",
      "========================================\n",
      "Subjek : 0\n",
      "Objek : 0\n",
      "Assessment : 0\n",
      "Plan : 0\n",
      "========================================\n",
      "Subjek : 0\n",
      "Objek : 0\n",
      "Assessment : 0\n",
      "Plan : 0\n"
     ]
    }
   ],
   "source": [
    "sparrCheck3 = [\"*-\", \"-\\n\", \"=-\\n\", \"=\\n\"]\n",
    "for i in sparrCheck3:    \n",
    "    print(\"=\"*40)\n",
    "    checkReturn(i, label=labelForCeck)"
   ]
  },
  {
   "cell_type": "code",
   "execution_count": 8,
   "metadata": {},
   "outputs": [
    {
     "name": "stdout",
     "output_type": "stream",
     "text": [
      "dataset.csv               : 267940\n",
      "dataset_inject.csv        : 267940\n",
      "dataset_inject_backup.csv : 267940\n",
      "========================================\n",
      "Subjek : 0\n",
      "Objek : 0\n",
      "Assessment : 0\n",
      "Plan : 50000\n",
      "========================================\n",
      "Subjek : 0\n",
      "Objek : 0\n",
      "Assessment : 0\n",
      "Plan : 0\n",
      "========================================\n",
      "Subjek : 0\n",
      "Objek : 0\n",
      "Assessment : 0\n",
      "Plan : 0\n",
      "========================================\n",
      "Subjek : 0\n",
      "Objek : 0\n",
      "Assessment : 0\n",
      "Plan : 0\n",
      "========================================\n",
      "Subjek : 0\n",
      "Objek : 0\n",
      "Assessment : 0\n",
      "Plan : 0\n"
     ]
    }
   ],
   "source": [
    "print(\"dataset.csv               :\", len(pd.read_csv('dataset.csv')))\n",
    "print(\"dataset_inject.csv        :\", len(pd.read_csv('dataset_inject.csv')))\n",
    "print(\"dataset_inject_backup.csv :\", len(pd.read_csv('dataset_inject_backup.csv')))\n",
    "sparrCheckBackup = [\"isna(*)\", \"-\", \"w\", \"1\", \"2\"]\n",
    "for i in sparrCheckBackup:    \n",
    "    print(\"=\"*40)\n",
    "    checkReturn(i, label=labelForCeck, show_backup=True)"
   ]
  }
 ],
 "metadata": {
  "kernelspec": {
   "display_name": "Python 3",
   "language": "python",
   "name": "python3"
  },
  "language_info": {
   "codemirror_mode": {
    "name": "ipython",
    "version": 3
   },
   "file_extension": ".py",
   "mimetype": "text/x-python",
   "name": "python",
   "nbconvert_exporter": "python",
   "pygments_lexer": "ipython3",
   "version": "3.10.7"
  }
 },
 "nbformat": 4,
 "nbformat_minor": 2
}
